{
 "cells": [
  {
   "cell_type": "code",
   "execution_count": 12,
   "metadata": {},
   "outputs": [],
   "source": [
    "from pipnet.pipnet import PIPNet, get_network\n",
    "from util.data import get_dataloaders\n",
    "from util.args import get_args\n",
    "import torch"
   ]
  },
  {
   "cell_type": "code",
   "execution_count": 23,
   "metadata": {},
   "outputs": [],
   "source": [
    "# create args variable\n",
    "import sys\n",
    "\n",
    "sys.argv = ['dataset=FunnyBirds']\n",
    "del sys\n",
    "args = get_args()"
   ]
  },
  {
   "cell_type": "code",
   "execution_count": 24,
   "metadata": {},
   "outputs": [
    {
     "data": {
      "text/plain": [
       "Namespace(dataset='CUB-200-2011', validation_size=0.0, net='convnext_tiny_26', batch_size=64, batch_size_pretrain=128, epochs=60, epochs_pretrain=10, optimizer='Adam', lr=0.05, lr_block=0.0005, lr_net=0.0005, weight_decay=0.0, disable_cuda=False, log_dir='./runs/run_pipnet', num_features=0, image_size=224, state_dict_dir_net='', freeze_epochs=10, dir_for_saving_images='visualization_results', disable_pretrained=False, weighted_loss=False, seed=1, gpu_ids='', num_workers=8, bias=False, extra_test_image_folder='./experiments')"
      ]
     },
     "execution_count": 24,
     "metadata": {},
     "output_type": "execute_result"
    }
   ],
   "source": [
    "args"
   ]
  },
  {
   "cell_type": "code",
   "execution_count": null,
   "metadata": {},
   "outputs": [],
   "source": [
    "\n",
    "\n",
    "eature_net, add_on_layers, pool_layer, classification_layer, num_prototypes = (\n",
    "        get_network(len(classes), args)\n",
    "    )\n",
    "\n",
    "# Create a PIP-Net\n",
    "net = PIPNet(\n",
    "    num_classes=len(classes),\n",
    "    num_prototypes=num_prototypes,\n",
    "    feature_net=feature_net,\n",
    "    args=args,\n",
    "    add_on_layers=add_on_layers,\n",
    "    pool_layer=pool_layer,\n",
    "    classification_layer=classification_layer,\n",
    ")\n",
    "net = net.to(device=device)"
   ]
  },
  {
   "cell_type": "code",
   "execution_count": 16,
   "metadata": {},
   "outputs": [
    {
     "data": {
      "text/plain": [
       "Namespace(dataset='CUB-200-2011', validation_size=0.0, net='convnext_tiny_26', batch_size=64, batch_size_pretrain=128, epochs=60, epochs_pretrain=10, optimizer='Adam', lr=0.05, lr_block=0.0005, lr_net=0.0005, weight_decay=0.0, disable_cuda=False, log_dir='./runs/run_pipnet', num_features=0, image_size=224, state_dict_dir_net='', freeze_epochs=10, dir_for_saving_images='visualization_results', disable_pretrained=False, weighted_loss=False, seed=1, gpu_ids='', num_workers=8, bias=False, extra_test_image_folder='./experiments')"
      ]
     },
     "execution_count": 16,
     "metadata": {},
     "output_type": "execute_result"
    }
   ],
   "source": [
    "args"
   ]
  }
 ],
 "metadata": {
  "kernelspec": {
   "display_name": ".venv",
   "language": "python",
   "name": "python3"
  },
  "language_info": {
   "codemirror_mode": {
    "name": "ipython",
    "version": 3
   },
   "file_extension": ".py",
   "mimetype": "text/x-python",
   "name": "python",
   "nbconvert_exporter": "python",
   "pygments_lexer": "ipython3",
   "version": "3.12.3"
  }
 },
 "nbformat": 4,
 "nbformat_minor": 2
}
